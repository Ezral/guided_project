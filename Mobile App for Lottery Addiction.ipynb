{
 "cells": [
  {
   "cell_type": "markdown",
   "metadata": {
    "collapsed": true
   },
   "source": [
    "# Guided Project: [Mobile App for Lottery Addiction](https://app.dataquest.io/m/382/guided-project%3A-mobile-app-for-lottery-addiction/1/introduction)\n",
    "\n",
    "\n",
    "---------------\n",
    "To start, I'm to add these heading links to make the notebook easier to read:\n",
    "\n",
    "> ### Content\n",
    "> - [Background](#Background)\n",
    "> - [Defining formula](#Defining-formula)\n",
    "> - [Reading data frame](#Reading-data-frame)\n",
    "> - [One ticket probability](#One-ticket-probability)\n",
    "> - [Multi ticket probability](#Multi-ticket-probability)\n",
    "> - [Winning number with less than 6 matches](#Winning-number-with-less-than-6-matches)\n",
    "> - [Conclusion](#Conclusion)\n",
    "\n",
    "\n",
    "### Background\n",
    "\n",
    "Apparently for this project our service is needed to create the logical core of an app which calculate probabilities for lottery addicts to better estimate their chances of winning.\n",
    "\n",
    "A medical institution recognizes that compulsive gambling or gambling addiction, particularly lottery gambling, is increasing and has reached to a point where some would engage in criminal offense to fund their lottery adventure. To help tackle this issue, the said institution plans to create a mobile app that helps lottery addicts better estimate their chances of winning. \n",
    "\n",
    "The intention for the first version of the app is to answer the following questions  \n",
    "- What is the probability of winning the big prize with a single ticket?\n",
    "- What is the probability of winning the big prize if we play 40 different tickets (or any other number)?\n",
    "- What is the probability of having at least five (or four, or three, or two) winning numbers on a single ticket?\n",
    "\n",
    "And for this purpose we are requested to consider historical data coming from the national 6/49 lottery game in Canada. \n",
    "<sub>  Because there are plenty of lottery addicts there? This would be an interesting question to answer. Using data, of course.</sub>\n",
    "\n",
    "I included __DSM-5's__ (for informational purposes only) [gambling disorder diagnostic criteria](https://www.ncpgambling.org/wp-content/uploads/2014/08/DSM-5-Diagnostic-Criteria-Gambling-Disorder.pdf) that can be opened from the link so we can see what these lottery addicts symptoms are.<sub>  In case we're feeling curious. Personally, I wouldn't have thought that lottery would get to people as bad as horse/sport betting. To the point they would actually perform a property crime violation over lottery. Anyway... </sub>\n",
    "\n",
    "---\n",
    "\n",
    "### Defining formula\n",
    "\n",
    "We will start with writing a function to calculate factorial and combinations. For factorials, we will use the following formula:\n",
    "\n",
    "$$n! = n \\times (n-1) \\times (n-2) \\times ... \\times 2 \\times 1$$\n",
    "\n",
    "As for combinations, this following formula:\n",
    "\n",
    "$$ \\small n \\normalsize C \\small k \\normalsize = \\binom{n}{k} = \\frac{n!}{k!(n-k)!}$$\n",
    "\n",
    "I used this [reference](https://en.wikibooks.org/wiki/LaTeX/Mathematics) to use TeX"
   ]
  },
  {
   "cell_type": "code",
   "execution_count": 2,
   "metadata": {
    "collapsed": true
   },
   "outputs": [],
   "source": [
    "# Writing functions to calculate factorial and combinations: \n",
    "def factorial(n):\n",
    "    result=1\n",
    "    for i in range(n,0,-1):\n",
    "        result*=i \n",
    "    return result\n",
    "\n",
    "def combinations(n, k):\n",
    "    num = factorial(n)\n",
    "    denum = factorial(k)*factorial(n-k)\n",
    "    return num/denum"
   ]
  },
  {
   "cell_type": "markdown",
   "metadata": {},
   "source": [
    "\n",
    "[Back to top](#Guided-Project:-Mobile-App-for-Lottery-Addiction)\n",
    "\n",
    "---\n",
    "\n",
    "### One ticket probability\n",
    "\n",
    "Next we'll write a function that takes input of 6 numbers between 1 - 49 which len value will be used as a value to calculate the combinations. The function will return a string of text that will be read by the app users, letting them know the probability of them winning using the number combination they have."
   ]
  },
  {
   "cell_type": "code",
   "execution_count": 3,
   "metadata": {},
   "outputs": [],
   "source": [
    "import os\n",
    "\n",
    "def one_ticket_probability():\n",
    "        num={}\n",
    "        try:\n",
    "            for n in range(1,7):\n",
    "                number = input(\"Number drawn {}: \".format(n))\n",
    "                if (int(number) > 49) | (number in num.values()):\n",
    "                    print(\"\\nInvalid number selection\")\n",
    "                    sys.exit()\n",
    "                else:\n",
    "                    num[n] = number\n",
    "        except:\n",
    "            print(\"\\nPlease check your drawn number and repeat the process.\")\n",
    "        combination = combinations(49,6)\n",
    "        probability = 1/combination\n",
    "        return print('''\\nThe probability of ticket [{}-{}-{}-{}-{}-{}] winning is {:8%}.\\nIn other words, you have a 1 in a {:,} chance to win.'''.format(num[1],num[2],num[3],num[4],num[5],num[6],probability,combination))"
   ]
  },
  {
   "cell_type": "code",
   "execution_count": 4,
   "metadata": {},
   "outputs": [
    {
     "name": "stdout",
     "output_type": "stream",
     "text": [
      "Number drawn 1: 4\n",
      "Number drawn 2: 3\n",
      "Number drawn 3: 5\n",
      "Number drawn 4: 2\n",
      "Number drawn 5: 1\n",
      "Number drawn 6: 6\n",
      "\n",
      "The probability of ticket [4-3-5-2-1-6] winning is 0.000007%.\n",
      "In other words, you have a 1 in a 13,983,816.0 chance to win.\n"
     ]
    }
   ],
   "source": [
    "# First test\n",
    "one_ticket_probability()"
   ]
  },
  {
   "cell_type": "code",
   "execution_count": 5,
   "metadata": {},
   "outputs": [
    {
     "name": "stdout",
     "output_type": "stream",
     "text": [
      "Number drawn 1: 12\n",
      "Number drawn 2: 13\n",
      "Number drawn 3: 14\n",
      "Number drawn 4: 15\n",
      "Number drawn 5: 16\n",
      "Number drawn 6: 17\n",
      "\n",
      "The probability of ticket [12-13-14-15-16-17] winning is 0.000007%.\n",
      "In other words, you have a 1 in a 13,983,816.0 chance to win.\n"
     ]
    }
   ],
   "source": [
    "# Second test\n",
    "one_ticket_probability()"
   ]
  },
  {
   "cell_type": "markdown",
   "metadata": {},
   "source": [
    "\n",
    "[Back to top](#Guided-Project:-Mobile-App-for-Lottery-Addiction)\n",
    "\n",
    "---\n",
    "\n",
    "### Reading data frame"
   ]
  },
  {
   "cell_type": "code",
   "execution_count": 6,
   "metadata": {
    "collapsed": true
   },
   "outputs": [],
   "source": [
    "# Importing packages for data management \n",
    "import pandas as pd    # Importing pandas\n",
    "import numpy as np     # Importing numpy\n",
    "import datetime as dt  # Importing datetime\n",
    "import re              # Importing regular expression\n",
    "import warnings        # To suppress warning alert\n",
    "warnings.filterwarnings('ignore')\n",
    "#Change setting to avoid dataframe from truncating\n",
    "pd.options.display.max_rows = 500\n",
    "pd.options.display.width = 500\n",
    "pd.options.display.max_colwidth = 500\n",
    "pd.options.display.max_columns = 500\n",
    "\n",
    "#Reading the data set\n",
    "lot = pd.read_csv(\"649.csv\")"
   ]
  },
  {
   "cell_type": "code",
   "execution_count": 7,
   "metadata": {},
   "outputs": [
    {
     "data": {
      "text/html": [
       "<div>\n",
       "<style scoped>\n",
       "    .dataframe tbody tr th:only-of-type {\n",
       "        vertical-align: middle;\n",
       "    }\n",
       "\n",
       "    .dataframe tbody tr th {\n",
       "        vertical-align: top;\n",
       "    }\n",
       "\n",
       "    .dataframe thead th {\n",
       "        text-align: right;\n",
       "    }\n",
       "</style>\n",
       "<table border=\"1\" class=\"dataframe\">\n",
       "  <thead>\n",
       "    <tr style=\"text-align: right;\">\n",
       "      <th></th>\n",
       "      <th>PRODUCT</th>\n",
       "      <th>DRAW NUMBER</th>\n",
       "      <th>SEQUENCE NUMBER</th>\n",
       "      <th>DRAW DATE</th>\n",
       "      <th>NUMBER DRAWN 1</th>\n",
       "      <th>NUMBER DRAWN 2</th>\n",
       "      <th>NUMBER DRAWN 3</th>\n",
       "      <th>NUMBER DRAWN 4</th>\n",
       "      <th>NUMBER DRAWN 5</th>\n",
       "      <th>NUMBER DRAWN 6</th>\n",
       "      <th>BONUS NUMBER</th>\n",
       "    </tr>\n",
       "  </thead>\n",
       "  <tbody>\n",
       "    <tr>\n",
       "      <th>0</th>\n",
       "      <td>649</td>\n",
       "      <td>1</td>\n",
       "      <td>0</td>\n",
       "      <td>6/12/1982</td>\n",
       "      <td>3</td>\n",
       "      <td>11</td>\n",
       "      <td>12</td>\n",
       "      <td>14</td>\n",
       "      <td>41</td>\n",
       "      <td>43</td>\n",
       "      <td>13</td>\n",
       "    </tr>\n",
       "    <tr>\n",
       "      <th>1</th>\n",
       "      <td>649</td>\n",
       "      <td>2</td>\n",
       "      <td>0</td>\n",
       "      <td>6/19/1982</td>\n",
       "      <td>8</td>\n",
       "      <td>33</td>\n",
       "      <td>36</td>\n",
       "      <td>37</td>\n",
       "      <td>39</td>\n",
       "      <td>41</td>\n",
       "      <td>9</td>\n",
       "    </tr>\n",
       "    <tr>\n",
       "      <th>2</th>\n",
       "      <td>649</td>\n",
       "      <td>3</td>\n",
       "      <td>0</td>\n",
       "      <td>6/26/1982</td>\n",
       "      <td>1</td>\n",
       "      <td>6</td>\n",
       "      <td>23</td>\n",
       "      <td>24</td>\n",
       "      <td>27</td>\n",
       "      <td>39</td>\n",
       "      <td>34</td>\n",
       "    </tr>\n",
       "  </tbody>\n",
       "</table>\n",
       "</div>"
      ],
      "text/plain": [
       "   PRODUCT  DRAW NUMBER  SEQUENCE NUMBER  DRAW DATE  NUMBER DRAWN 1  NUMBER DRAWN 2  NUMBER DRAWN 3  NUMBER DRAWN 4  NUMBER DRAWN 5  NUMBER DRAWN 6  BONUS NUMBER\n",
       "0      649            1                0  6/12/1982               3              11              12              14              41              43            13\n",
       "1      649            2                0  6/19/1982               8              33              36              37              39              41             9\n",
       "2      649            3                0  6/26/1982               1               6              23              24              27              39            34"
      ]
     },
     "execution_count": 7,
     "metadata": {},
     "output_type": "execute_result"
    }
   ],
   "source": [
    "# First three rows of the set\n",
    "lot.head(3)"
   ]
  },
  {
   "cell_type": "code",
   "execution_count": 8,
   "metadata": {},
   "outputs": [
    {
     "data": {
      "text/html": [
       "<div>\n",
       "<style scoped>\n",
       "    .dataframe tbody tr th:only-of-type {\n",
       "        vertical-align: middle;\n",
       "    }\n",
       "\n",
       "    .dataframe tbody tr th {\n",
       "        vertical-align: top;\n",
       "    }\n",
       "\n",
       "    .dataframe thead th {\n",
       "        text-align: right;\n",
       "    }\n",
       "</style>\n",
       "<table border=\"1\" class=\"dataframe\">\n",
       "  <thead>\n",
       "    <tr style=\"text-align: right;\">\n",
       "      <th></th>\n",
       "      <th>PRODUCT</th>\n",
       "      <th>DRAW NUMBER</th>\n",
       "      <th>SEQUENCE NUMBER</th>\n",
       "      <th>DRAW DATE</th>\n",
       "      <th>NUMBER DRAWN 1</th>\n",
       "      <th>NUMBER DRAWN 2</th>\n",
       "      <th>NUMBER DRAWN 3</th>\n",
       "      <th>NUMBER DRAWN 4</th>\n",
       "      <th>NUMBER DRAWN 5</th>\n",
       "      <th>NUMBER DRAWN 6</th>\n",
       "      <th>BONUS NUMBER</th>\n",
       "    </tr>\n",
       "  </thead>\n",
       "  <tbody>\n",
       "    <tr>\n",
       "      <th>3662</th>\n",
       "      <td>649</td>\n",
       "      <td>3589</td>\n",
       "      <td>0</td>\n",
       "      <td>6/13/2018</td>\n",
       "      <td>6</td>\n",
       "      <td>22</td>\n",
       "      <td>24</td>\n",
       "      <td>31</td>\n",
       "      <td>32</td>\n",
       "      <td>34</td>\n",
       "      <td>16</td>\n",
       "    </tr>\n",
       "    <tr>\n",
       "      <th>3663</th>\n",
       "      <td>649</td>\n",
       "      <td>3590</td>\n",
       "      <td>0</td>\n",
       "      <td>6/16/2018</td>\n",
       "      <td>2</td>\n",
       "      <td>15</td>\n",
       "      <td>21</td>\n",
       "      <td>31</td>\n",
       "      <td>38</td>\n",
       "      <td>49</td>\n",
       "      <td>8</td>\n",
       "    </tr>\n",
       "    <tr>\n",
       "      <th>3664</th>\n",
       "      <td>649</td>\n",
       "      <td>3591</td>\n",
       "      <td>0</td>\n",
       "      <td>6/20/2018</td>\n",
       "      <td>14</td>\n",
       "      <td>24</td>\n",
       "      <td>31</td>\n",
       "      <td>35</td>\n",
       "      <td>37</td>\n",
       "      <td>48</td>\n",
       "      <td>17</td>\n",
       "    </tr>\n",
       "  </tbody>\n",
       "</table>\n",
       "</div>"
      ],
      "text/plain": [
       "      PRODUCT  DRAW NUMBER  SEQUENCE NUMBER  DRAW DATE  NUMBER DRAWN 1  NUMBER DRAWN 2  NUMBER DRAWN 3  NUMBER DRAWN 4  NUMBER DRAWN 5  NUMBER DRAWN 6  BONUS NUMBER\n",
       "3662      649         3589                0  6/13/2018               6              22              24              31              32              34            16\n",
       "3663      649         3590                0  6/16/2018               2              15              21              31              38              49             8\n",
       "3664      649         3591                0  6/20/2018              14              24              31              35              37              48            17"
      ]
     },
     "execution_count": 8,
     "metadata": {},
     "output_type": "execute_result"
    }
   ],
   "source": [
    "# Last three rows of the set\n",
    "lot.tail(3)"
   ]
  },
  {
   "cell_type": "code",
   "execution_count": 9,
   "metadata": {},
   "outputs": [
    {
     "data": {
      "text/plain": [
       "0    {3, 41, 11, 12, 43, 14}\n",
       "1    {33, 36, 37, 39, 8, 41}\n",
       "2     {1, 6, 39, 23, 24, 27}\n",
       "3     {3, 9, 10, 43, 13, 20}\n",
       "4    {34, 5, 14, 47, 21, 31}\n",
       "dtype: object"
      ]
     },
     "execution_count": 9,
     "metadata": {},
     "output_type": "execute_result"
    }
   ],
   "source": [
    "# Extracting winning numbers\n",
    "def extract_numbers(n):\n",
    "    n = n[4:10]\n",
    "    n = set(n.values)\n",
    "    return n\n",
    "\n",
    "winning_num = lot.apply(extract_numbers, axis=1)\n",
    "winning_num.head()"
   ]
  },
  {
   "cell_type": "code",
   "execution_count": 10,
   "metadata": {},
   "outputs": [],
   "source": [
    "# Creating function to count for historical occurence\n",
    "def check_historical_occurence(user_n, past_n=winning_num):\n",
    "    user_n = set(user_n)\n",
    "    check_occurrence = past_n == user_n\n",
    "    occurrences = check_occurrence.sum()\n",
    "    if occurrences == 0:\n",
    "        print('''The combination {} has never occured before in the past.\n",
    "The chance of you winning the big prize using this combination is 1 in a 13,983,816.'''.format(user_n,user_n))\n",
    "    else:\n",
    "        print('''The number of times combination {} occured in the past is {} times. \n",
    "The chance of you winning the big prize using this combination is 1 in a 13,983,816.'''.format(user_n, occurrences))"
   ]
  },
  {
   "cell_type": "code",
   "execution_count": 11,
   "metadata": {},
   "outputs": [
    {
     "name": "stdout",
     "output_type": "stream",
     "text": [
      "The number of times combination {33, 36, 37, 39, 8, 41} occured in the past is 1 times. \n",
      "The chance of you winning the big prize using this combination is 1 in a 13,983,816.\n"
     ]
    }
   ],
   "source": [
    "# First test\n",
    "check_historical_occurence([33, 36, 37, 39, 8, 41])"
   ]
  },
  {
   "cell_type": "code",
   "execution_count": 12,
   "metadata": {},
   "outputs": [
    {
     "name": "stdout",
     "output_type": "stream",
     "text": [
      "The combination {34, 21, 9, 10, 14, 31} has never occured before in the past.\n",
      "The chance of you winning the big prize using this combination is 1 in a 13,983,816.\n"
     ]
    }
   ],
   "source": [
    "# Second test\n",
    "check_historical_occurence({34, 9, 14, 10, 21, 31})"
   ]
  },
  {
   "cell_type": "markdown",
   "metadata": {},
   "source": [
    "In this step we use set data type to compare a combination of number that the user has to combination sets that won big prize in the past. This allows the user to see if the combination that he/she has have won in the past or not.\n",
    "\n",
    "However this doesn't really give them new information as the probability will remain the same given that they only have 1 lottery ticket. \n",
    "\n",
    "So what if they bought a thousand of them? Then the function we made earlier would be irrelevant and we need to come up with a new one that can take the value of more than one ticket.\n",
    "\n",
    "[Back to top](#Guided-Project:-Mobile-App-for-Lottery-Addiction)\n",
    "\n",
    "---\n",
    "\n",
    "### Multi ticket probability\n",
    "\n",
    "To answer the question that arised in the previous paragraph, we can modify the function  ```one_ticket_probability()``` to take ```n``` as a value for number of tickets that the user have."
   ]
  },
  {
   "cell_type": "code",
   "execution_count": 13,
   "metadata": {
    "collapsed": true
   },
   "outputs": [],
   "source": [
    "# Multi ticket probability function \n",
    "def multi_ticket_probability(n):\n",
    "        combination = combinations(49,6)\n",
    "        probability = n/combination\n",
    "        \n",
    "        return print('''\n",
    "        The probability of winning the big prize with {:,} ticket(s) is {:8%}.\n",
    "        In other words, you have a 1 in a {:,} chance to win.'''.format(n,probability,combination))"
   ]
  },
  {
   "cell_type": "markdown",
   "metadata": {},
   "source": [
    "To do multiple test the function that we just created, we can use a list with various numbers that represent the number of tickets and do a for loop to call the function:"
   ]
  },
  {
   "cell_type": "code",
   "execution_count": 14,
   "metadata": {},
   "outputs": [
    {
     "name": "stdout",
     "output_type": "stream",
     "text": [
      "\n",
      "        The probability of winning the big prize with 1 ticket(s) is 0.000007%.\n",
      "        In other words, you have a 1 in a 13,983,816.0 chance to win.\n",
      "\n",
      "        The probability of winning the big prize with 10 ticket(s) is 0.000072%.\n",
      "        In other words, you have a 1 in a 13,983,816.0 chance to win.\n",
      "\n",
      "        The probability of winning the big prize with 100 ticket(s) is 0.000715%.\n",
      "        In other words, you have a 1 in a 13,983,816.0 chance to win.\n",
      "\n",
      "        The probability of winning the big prize with 10,000 ticket(s) is 0.071511%.\n",
      "        In other words, you have a 1 in a 13,983,816.0 chance to win.\n",
      "\n",
      "        The probability of winning the big prize with 1,000,000 ticket(s) is 7.151124%.\n",
      "        In other words, you have a 1 in a 13,983,816.0 chance to win.\n",
      "\n",
      "        The probability of winning the big prize with 6,991,908 ticket(s) is 50.000000%.\n",
      "        In other words, you have a 1 in a 13,983,816.0 chance to win.\n",
      "\n",
      "        The probability of winning the big prize with 13,983,816 ticket(s) is 100.000000%.\n",
      "        In other words, you have a 1 in a 13,983,816.0 chance to win.\n"
     ]
    }
   ],
   "source": [
    "# Testing multi ticket probability function \n",
    "test_input=[1, 10, 100, 10000, 1000000, 6991908, 13983816]\n",
    "\n",
    "for i in test_input:\n",
    "    multi_ticket_probability(i)"
   ]
  },
  {
   "cell_type": "markdown",
   "metadata": {},
   "source": [
    "As we can see from the testing, the user can now see their chance of winning the big prize when they have more than one lottery ticket. \n",
    "\n",
    "[Back to top](#Guided-Project:-Mobile-App-for-Lottery-Addiction)\n",
    "\n",
    "---\n",
    "\n",
    "### Winning number with less than 6 matches\n",
    "\n",
    "Aside from the big prize, there are also other prizes with various number of matches as described in [Lotto 6/49 wikipedia page](https://en.wikipedia.org/wiki/Lotto_6/49#Prizes_and_chance_of_winning). This is another thing that we haven't addressed in our planning. If the app user wants to find out about their chances for other prizes beside the big prize, we can help them by writing this function:"
   ]
  },
  {
   "cell_type": "code",
   "execution_count": 15,
   "metadata": {
    "collapsed": true
   },
   "outputs": [],
   "source": [
    "def probability_less_6(n_winning_numbers):\n",
    "    \n",
    "    n_combinations_ticket = combinations(6, n_winning_numbers)\n",
    "    n_combinations_remaining = combinations(43, 6 - n_winning_numbers)\n",
    "    successful_outcomes = n_combinations_ticket * n_combinations_remaining\n",
    "    \n",
    "    n_combinations_total = combinations(49, 6)    \n",
    "    probability = successful_outcomes / n_combinations_total\n",
    "    \n",
    "    probability_percentage = probability * 100    \n",
    "    combinations_simplified = round(n_combinations_total/successful_outcomes)    \n",
    "    print('''Your chances of having {} winning numbers \n",
    "    with this ticket are {:.6f}%.\n",
    "    In other words, you have a \n",
    "    1 in {:,} chances to win.'''.format(n_winning_numbers, probability_percentage,\n",
    "                                                               int(combinations_simplified)))"
   ]
  },
  {
   "cell_type": "markdown",
   "metadata": {},
   "source": [
    "Now to test with 2, 3, 4, 5 winning numbers:"
   ]
  },
  {
   "cell_type": "code",
   "execution_count": 20,
   "metadata": {},
   "outputs": [
    {
     "name": "stdout",
     "output_type": "stream",
     "text": [
      "============================================================================\n",
      "Your chances of having 2 winning numbers with this ticket are 13.237803%.\n",
      "In other words, you have a 1 in 8 chances to win.\n",
      "============================================================================\n",
      "Your chances of having 3 winning numbers with this ticket are 1.765040%.\n",
      "In other words, you have a 1 in 57 chances to win.\n",
      "============================================================================\n",
      "Your chances of having 4 winning numbers with this ticket are 0.096862%.\n",
      "In other words, you have a 1 in 1,032 chances to win.\n",
      "============================================================================\n",
      "Your chances of having 5 winning numbers with this ticket are 0.001845%.\n",
      "In other words, you have a 1 in 54,201 chances to win.\n"
     ]
    }
   ],
   "source": [
    "for val in [2,3,4,5]:\n",
    "    print(\"============================================================================\")\n",
    "    probability_less_6(val)"
   ]
  },
  {
   "cell_type": "markdown",
   "metadata": {},
   "source": [
    "\n",
    "[Back to top](#Guided-Project:-Mobile-App-for-Lottery-Addiction)\n",
    "\n",
    "---\n",
    "\n",
    "### Conclusion\n",
    "\n",
    "With this we've written functions to answer the questions that were initially raised, as also described in the table below.\n",
    "\n",
    "|                   Question                             | Function |\n",
    "|-------------------------------------------------------------------------------------------|---|\n",
    "|probability of winning the big prize with a single ticket?                                 | one_ticket_probability  |\n",
    "|probability of winning the big prize if we play 40 different tickets (or any other number)?| multi_ticket_probability |\n",
    "|probability of having at 2, 3, 4 or 5 winning numbers on a single ticket?                  |   probability_less_6 |\n",
    "\n",
    "Will the first version of this app make an impact on the addicts? I hope so.\n",
    "\n",
    "---"
   ]
  }
 ],
 "metadata": {
  "kernelspec": {
   "display_name": "Python 3",
   "language": "python",
   "name": "python3"
  },
  "language_info": {
   "codemirror_mode": {
    "name": "ipython",
    "version": 3
   },
   "file_extension": ".py",
   "mimetype": "text/x-python",
   "name": "python",
   "nbconvert_exporter": "python",
   "pygments_lexer": "ipython3",
   "version": "3.7.6"
  },
  "toc": {
   "base_numbering": 1,
   "nav_menu": {},
   "number_sections": true,
   "sideBar": true,
   "skip_h1_title": false,
   "title_cell": "Table of Contents",
   "title_sidebar": "Contents",
   "toc_cell": false,
   "toc_position": {},
   "toc_section_display": true,
   "toc_window_display": false
  }
 },
 "nbformat": 4,
 "nbformat_minor": 2
}
